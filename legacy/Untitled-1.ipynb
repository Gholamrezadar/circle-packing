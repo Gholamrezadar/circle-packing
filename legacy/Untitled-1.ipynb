{
 "cells": [
  {
   "cell_type": "code",
   "execution_count": 2,
   "metadata": {},
   "outputs": [],
   "source": [
    "from circle_packing import main"
   ]
  },
  {
   "cell_type": "code",
   "execution_count": 4,
   "metadata": {},
   "outputs": [
    {
     "name": "stdout",
     "output_type": "stream",
     "text": [
      " "
     ]
    },
    {
     "name": "stdout",
     "output_type": "stream",
     "text": [
      "         122926 function calls in 17.940 seconds\n",
      "\n",
      "   Ordered by: internal time\n",
      "\n",
      "   ncalls  tottime  percall  cumtime  percall filename:lineno(function)\n",
      "    10615    8.940    0.001    8.940    0.001 circle_packing.py:14(check_collisions)\n",
      "        1    6.515    6.515   17.940   17.940 circle_packing.py:109(main)\n",
      "     4500    2.464    0.001    2.470    0.001 circle_packing.py:91(propose_position)\n",
      "    10615    0.008    0.000    8.948    0.001 circle_packing.py:51(is_valid)\n",
      "    77576    0.006    0.000    0.006    0.000 {method 'random' of '_random.Random' objects}\n",
      "     6115    0.003    0.000    0.003    0.000 circle_packing.py:57(grow)\n",
      "     4500    0.002    0.000    0.002    0.000 circle_packing.py:35(__init__)\n",
      "     4500    0.001    0.000    0.001    0.000 circle_packing.py:60(shrink)\n",
      "     4500    0.001    0.000    0.001    0.000 {method 'append' of 'list' objects}\n",
      "        1    0.000    0.000   17.940   17.940 <string>:1(<module>)\n",
      "        1    0.000    0.000   17.940   17.940 {built-in method builtins.exec}\n",
      "        1    0.000    0.000    0.000    0.000 __init__.py:18(__init__)\n",
      "        1    0.000    0.000    0.000    0.000 {method 'disable' of '_lsprof.Profiler' objects}"
     ]
    }
   ],
   "source": [
    "%%prun\n",
    "main()"
   ]
  }
 ],
 "metadata": {
  "kernelspec": {
   "display_name": "Python 3",
   "language": "python",
   "name": "python3"
  },
  "language_info": {
   "codemirror_mode": {
    "name": "ipython",
    "version": 3
   },
   "file_extension": ".py",
   "mimetype": "text/x-python",
   "name": "python",
   "nbconvert_exporter": "python",
   "pygments_lexer": "ipython3",
   "version": "3.11.3"
  },
  "orig_nbformat": 4
 },
 "nbformat": 4,
 "nbformat_minor": 2
}
